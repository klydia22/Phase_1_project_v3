{
 "cells": [
  {
   "cell_type": "code",
   "execution_count": null,
   "id": "e21395da",
   "metadata": {},
   "outputs": [],
   "source": [
    "# loading the data set\n",
    "import pandas as pd\n",
    "\n",
    "df = pd.read_csv(\"aviation_incidents.csv\")\n",
    "df.head()\n"
   ]
  },
  {
   "cell_type": "code",
   "execution_count": null,
   "id": "a2d9a183",
   "metadata": {},
   "outputs": [],
   "source": [
    "# let us clean the data\n",
    "## clean column names to help in standardization of column names\n",
    "df.columns = df.columns.str.strip().str.lower().str.replace(' ', '_')\n",
    "\n",
    "- Remove duplicates\n",
    "- Fix inconsistent formats (e.g., dates, locations)\n",
    "- Handle missing values\n"
   ]
  },
  {
   "cell_type": "code",
   "execution_count": null,
   "id": "5e7b690c",
   "metadata": {},
   "outputs": [],
   "source": [
    "# Fix inconsistent formats\n",
    "## convert date column\n",
    "df['date'] = pd.to_datetime(df['date'], errors='coerce')"
   ]
  },
  {
   "cell_type": "code",
   "execution_count": null,
   "id": "7118a7be",
   "metadata": {},
   "outputs": [],
   "source": [
    "# remove duplicates\n",
    "df.drop_duplicates(inplace=True)\n"
   ]
  },
  {
   "cell_type": "code",
   "execution_count": null,
   "id": "db1c83fb",
   "metadata": {},
   "outputs": [],
   "source": [
    "# Handle missing values\n",
    "df.isnull().sum()\n"
   ]
  },
  {
   "cell_type": "code",
   "execution_count": null,
   "id": "9860ebc8",
   "metadata": {},
   "outputs": [],
   "source": [
    "# Fill missing aircraft model with 'Unknown'\n",
    "df['aircraft_model'].fillna('Unknown', inplace=True)\n",
    "\n"
   ]
  },
  {
   "cell_type": "code",
   "execution_count": null,
   "id": "1e12b35f",
   "metadata": {},
   "outputs": [],
   "source": [
    "# Fill missing engine type\n",
    "df['engine_type'].fillna(df['engine_type'].mode()[0], inplace=True)\n"
   ]
  },
  {
   "cell_type": "code",
   "execution_count": null,
   "id": "7c3a8cfe",
   "metadata": {},
   "outputs": [],
   "source": [
    "# Fill missing severity with 'Substantial' (if domain knowledge supports it)\n",
    "df['severity'].fillna('Substantial', inplace=True)\n"
   ]
  },
  {
   "cell_type": "code",
   "execution_count": null,
   "id": "1c8ba804",
   "metadata": {},
   "outputs": [],
   "source": [
    "# Exploratory Data Analysis (EDA)\n",
    "## Which aircraft models are most frequently involved in fatal incidents?\n",
    "fatal_counts = df[df['severity'] == 'Fatal']['aircraft_model'].value_counts().head(10)\n",
    "fatal_counts.plot(kind='bar', title='Top Aircraft Models in Fatal Incidents')\n"
   ]
  },
  {
   "cell_type": "code",
   "execution_count": null,
   "id": "d7bdd671",
   "metadata": {},
   "outputs": [],
   "source": [
    "# How do incidents trend over time?\n",
    "df['year'] = df['date'].dt.year\n",
    "incident_trend = df.groupby('year').size()\n",
    "incident_trend.plot(kind='line', title='Incidents Over Time')\n"
   ]
  },
  {
   "cell_type": "code",
   "execution_count": null,
   "id": "6276c708",
   "metadata": {},
   "outputs": [],
   "source": [
    "# Which engine types are associated with higher severity?\n",
    "import seaborn as sns\n",
    "\n",
    "sns.countplot(data=df, x='engine_type', hue='severity')"
   ]
  }
 ],
 "metadata": {
  "kernelspec": {
   "display_name": "learn-env",
   "language": "python",
   "name": "python3"
  },
  "language_info": {
   "codemirror_mode": {
    "name": "ipython",
    "version": 3
   },
   "file_extension": ".py",
   "mimetype": "text/x-python",
   "name": "python",
   "nbconvert_exporter": "python",
   "pygments_lexer": "ipython3",
   "version": "3.9.23"
  }
 },
 "nbformat": 4,
 "nbformat_minor": 5
}
